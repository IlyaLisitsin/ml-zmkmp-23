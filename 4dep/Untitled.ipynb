{
 "cells": [
  {
   "cell_type": "code",
   "execution_count": 17,
   "id": "6db1cffd",
   "metadata": {},
   "outputs": [],
   "source": [
    "# !wget \"https://raw.githubusercontent.com/DataTalksClub/machine-learning-zoomcamp/master/cohorts/2023/05-deployment/homework/model1.bin\"\n",
    "\n",
    "# !wget \"https://raw.githubusercontent.com/DataTalksClub/machine-learning-zoomcamp/master/cohorts/2023/05-deployment/homework/dv.bin\""
   ]
  },
  {
   "cell_type": "code",
   "execution_count": null,
   "id": "e272fcc9",
   "metadata": {},
   "outputs": [],
   "source": [
    "import pickle\n",
    "\n",
    "with open('./from-container//model1.bin', 'rb') as f_in:\n",
    "    model = pickle.load(f_in)\n",
    "f_in.close()"
   ]
  },
  {
   "cell_type": "code",
   "execution_count": 58,
   "id": "e53e1154",
   "metadata": {},
   "outputs": [],
   "source": [
    "with open('./from-container//dv.bin', 'rb') as f_in:\n",
    "    dv = pickle.load(f_in)\n",
    "f_in.close()"
   ]
  },
  {
   "cell_type": "code",
   "execution_count": 63,
   "id": "814ae8cf",
   "metadata": {},
   "outputs": [
    {
     "data": {
      "text/plain": [
       "0.9019309332297606"
      ]
     },
     "execution_count": 63,
     "metadata": {},
     "output_type": "execute_result"
    }
   ],
   "source": [
    "client = {\"job\": \"retired\", \"duration\": 445, \"poutcome\": \"success\"}\n",
    "X = dv.transform([client])\n",
    "model.predict_proba(X)[0,1]"
   ]
  },
  {
   "cell_type": "code",
   "execution_count": 69,
   "id": "424bbfce",
   "metadata": {},
   "outputs": [
    {
     "data": {
      "text/plain": [
       "{'fin_decision': False, 'probability': 0.13968947052356817}"
      ]
     },
     "execution_count": 69,
     "metadata": {},
     "output_type": "execute_result"
    }
   ],
   "source": [
    "import requests\n",
    "\n",
    "client = {\"job\": \"unknown\", \"duration\": 270, \"poutcome\": \"failure\"}\n",
    "\n",
    "requests.post('http://localhost:1312/predict', json=client).json()"
   ]
  },
  {
   "cell_type": "code",
   "execution_count": null,
   "id": "8266a144",
   "metadata": {},
   "outputs": [],
   "source": []
  }
 ],
 "metadata": {
  "kernelspec": {
   "display_name": "Python 3 (ipykernel)",
   "language": "python",
   "name": "python3"
  },
  "language_info": {
   "codemirror_mode": {
    "name": "ipython",
    "version": 3
   },
   "file_extension": ".py",
   "mimetype": "text/x-python",
   "name": "python",
   "nbconvert_exporter": "python",
   "pygments_lexer": "ipython3",
   "version": "3.9.16"
  }
 },
 "nbformat": 4,
 "nbformat_minor": 5
}
