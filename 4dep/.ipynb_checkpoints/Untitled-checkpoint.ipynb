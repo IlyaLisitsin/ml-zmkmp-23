{
 "cells": [
  {
   "cell_type": "code",
   "execution_count": 6,
   "id": "0f4ff1bb",
   "metadata": {},
   "outputs": [
    {
     "name": "stdout",
     "output_type": "stream",
     "text": [
      "--2023-10-10 21:20:45--  https://raw.githubusercontent.com/DataTalksClub/machine-learning-zoomcamp/master/cohorts/2023/05-deployment/homework/model1.bin\n",
      "Resolving raw.githubusercontent.com (raw.githubusercontent.com)... 185.199.108.133, 185.199.111.133, 185.199.110.133, ...\n",
      "Connecting to raw.githubusercontent.com (raw.githubusercontent.com)|185.199.108.133|:443... connected.\n",
      "HTTP request sent, awaiting response... 200 OK\n",
      "Length: 842 [application/octet-stream]\n",
      "Saving to: ‘model1.bin’\n",
      "\n",
      "model1.bin          100%[===================>]     842  --.-KB/s    in 0s      \n",
      "\n",
      "2023-10-10 21:20:46 (22.3 MB/s) - ‘model1.bin’ saved [842/842]\n",
      "\n",
      "--2023-10-10 21:20:46--  https://raw.githubusercontent.com/DataTalksClub/machine-learning-zoomcamp/master/cohorts/2023/05-deployment/homework/dv.bin\n",
      "Resolving raw.githubusercontent.com (raw.githubusercontent.com)... 185.199.108.133, 185.199.111.133, 185.199.110.133, ...\n",
      "Connecting to raw.githubusercontent.com (raw.githubusercontent.com)|185.199.108.133|:443... connected.\n",
      "HTTP request sent, awaiting response... 200 OK\n",
      "Length: 560 [application/octet-stream]\n",
      "Saving to: ‘dv.bin’\n",
      "\n",
      "dv.bin              100%[===================>]     560  --.-KB/s    in 0s      \n",
      "\n",
      "2023-10-10 21:20:46 (17.1 MB/s) - ‘dv.bin’ saved [560/560]\n",
      "\n"
     ]
    }
   ],
   "source": [
    "# !wget \"https://raw.githubusercontent.com/DataTalksClub/machine-learning-zoomcamp/master/cohorts/2023/05-deployment/homework/model1.bin\"\n",
    "\n",
    "# !wget \"https://raw.githubusercontent.com/DataTalksClub/machine-learning-zoomcamp/master/cohorts/2023/05-deployment/homework/dv.bin\""
   ]
  },
  {
   "cell_type": "code",
   "execution_count": 11,
   "id": "d7d5c603",
   "metadata": {},
   "outputs": [],
   "source": [
    "import pickle\n",
    "\n",
    "with open('model1.bin', 'rb') as f_in:\n",
    "    model = pickle.load(f_in)\n",
    "f_in.close()"
   ]
  },
  {
   "cell_type": "code",
   "execution_count": 15,
   "id": "6070fcd2",
   "metadata": {},
   "outputs": [],
   "source": [
    "with open('dv.bin', 'rb') as f_in:\n",
    "    dv = pickle.load(f_in)\n",
    "f_in.close()"
   ]
  },
  {
   "cell_type": "code",
   "execution_count": 23,
   "id": "9db80708",
   "metadata": {},
   "outputs": [
    {
     "data": {
      "text/plain": [
       "array([[0.09806907, 0.90193093]])"
      ]
     },
     "execution_count": 23,
     "metadata": {},
     "output_type": "execute_result"
    }
   ],
   "source": [
    "client = {\"job\": \"retired\", \"duration\": 445, \"poutcome\": \"success\"}\n",
    "X = dv.transform([client])\n",
    "model.predict_proba(X)"
   ]
  },
  {
   "cell_type": "code",
   "execution_count": 19,
   "id": "7fb606ed",
   "metadata": {},
   "outputs": [],
   "source": []
  },
  {
   "cell_type": "code",
   "execution_count": 20,
   "id": "6f24f8bd",
   "metadata": {},
   "outputs": [
    {
     "data": {
      "text/plain": [
       "array([[0.09806907, 0.90193093]])"
      ]
     },
     "execution_count": 20,
     "metadata": {},
     "output_type": "execute_result"
    }
   ],
   "source": []
  }
 ],
 "metadata": {
  "kernelspec": {
   "display_name": "Python 3 (ipykernel)",
   "language": "python",
   "name": "python3"
  },
  "language_info": {
   "codemirror_mode": {
    "name": "ipython",
    "version": 3
   },
   "file_extension": ".py",
   "mimetype": "text/x-python",
   "name": "python",
   "nbconvert_exporter": "python",
   "pygments_lexer": "ipython3",
   "version": "3.9.16"
  }
 },
 "nbformat": 4,
 "nbformat_minor": 5
}
